{
 "cells": [
  {
   "cell_type": "markdown",
   "id": "eaf555ff",
   "metadata": {},
   "source": [
    "OBTAINING AND FILTERING DATA"
   ]
  },
  {
   "cell_type": "code",
   "execution_count": 1,
   "id": "6825bef1",
   "metadata": {},
   "outputs": [],
   "source": [
    "import pandas as pd\n",
    "import numpy as np\n",
    "import nfl_data_py as nfl"
   ]
  },
  {
   "cell_type": "markdown",
   "id": "65e630c1",
   "metadata": {},
   "source": [
    "2022 was the material rule change that affected games (As of this book). Othter seasons are natural breaking points are 2002, 2011, 2015, 2020, and 2021."
   ]
  },
  {
   "cell_type": "code",
   "execution_count": 4,
   "id": "88cb57d1",
   "metadata": {},
   "outputs": [
    {
     "name": "stdout",
     "output_type": "stream",
     "text": [
      "2016 done.\n",
      "2017 done.\n",
      "2018 done.\n",
      "2019 done.\n",
      "2020 done.\n",
      "2021 done.\n",
      "2022 done.\n",
      "Downcasting floats.\n"
     ]
    }
   ],
   "source": [
    "# use the range() function to load the NFL seasons (or years) we want to look into.\n",
    "seasons = range(2016, 2022 + 1)\n",
    "pbp_py = nfl.import_pbp_data(seasons)"
   ]
  },
  {
   "cell_type": "markdown",
   "id": "114559a4",
   "metadata": {},
   "source": [
    "To get the subset of data you need for this analysis, filter down to just the passing plays."
   ]
  },
  {
   "cell_type": "markdown",
   "id": "d67bd8fd",
   "metadata": {},
   "source": [
    "Play_type being equal to pass will eliminate both running plays and plays that are negated because of penalty.\n",
    "Sometimes you want to include plays that have penality (i.e. if you are using a grade-based system like the one at PFF).\n",
    "Grade-based systems attempt to measure how well the player performed on a play independent of the final statistics of the play, so keeping data where play_type == no_ply have value."
   ]
  },
  {
   "cell_type": "code",
   "execution_count": null,
   "id": "2deadd54",
   "metadata": {},
   "outputs": [],
   "source": [
    "# to omit plays is air_yards is NA (in R) or NULL (in Python)"
   ]
  },
  {
   "cell_type": "code",
   "execution_count": 10,
   "id": "d4aa2801",
   "metadata": {},
   "outputs": [],
   "source": [
    "pbp_py_p = pbp_py \\\n",
    "            .query(\"play_type == 'pass' & air_yards.notnull()\") \\\n",
    "            .reset_index()"
   ]
  },
  {
   "cell_type": "markdown",
   "id": "9f3f6a50",
   "metadata": {},
   "source": [
    "DATA CLEANING AND WRANGLING"
   ]
  },
  {
   "cell_type": "code",
   "execution_count": 13,
   "id": "f36bd5be",
   "metadata": {},
   "outputs": [],
   "source": [
    "# define \"long\" pass as a pass that has air yards greater than or equal to 20 yards\n",
    "# define \"short\" pass as one with air yards less than 20 yards.\n",
    "# The NFL has a categorical variable for pass length (pass_length) in data, but the classifications are not completely clear to the observer.\n",
    "\n",
    "# passing yards for incomplete passes are recorded as NA in R, or NULL in Python, but should be set to 0 for this analysis\n",
    "\n",
    "# where() function from numpy will help us with this change."
   ]
  },
  {
   "cell_type": "code",
   "execution_count": 11,
   "id": "8b95dbed",
   "metadata": {},
   "outputs": [],
   "source": [
    "pbp_py_p[\"pass_length_air_yards\"] = np.where(\n",
    "    pbp_py_p[\"air_yards\"] >= 20, \"long\", \"short\"\n",
    ")"
   ]
  },
  {
   "cell_type": "code",
   "execution_count": 12,
   "id": "4599d0bd",
   "metadata": {},
   "outputs": [],
   "source": [
    "pbp_py_p[\"passing_yards\"] = \\\n",
    "                                np.where(\n",
    "                                    pbp_py_p[\"passing_yards\"].isnull(), 0, pbp_py_p[\"passing_yards\"]\n",
    "                                    )"
   ]
  },
  {
   "cell_type": "markdown",
   "id": "d247aa52",
   "metadata": {},
   "source": [
    "SUMMARIZING DATA"
   ]
  },
  {
   "cell_type": "code",
   "execution_count": 18,
   "id": "106a4880",
   "metadata": {},
   "outputs": [
    {
     "data": {
      "text/plain": [
       "count    131606.000000\n",
       "mean          7.192111\n",
       "std           9.667647\n",
       "min         -20.000000\n",
       "25%           0.000000\n",
       "50%           5.000000\n",
       "75%          11.000000\n",
       "max          98.000000\n",
       "Name: passing_yards, dtype: float64"
      ]
     },
     "execution_count": 18,
     "metadata": {},
     "output_type": "execute_result"
    }
   ],
   "source": [
    "pbp_py_p[\"passing_yards\"]\\\n",
    "    .describe()"
   ]
  },
  {
   "cell_type": "markdown",
   "id": "8fe058d3",
   "metadata": {},
   "source": [
    "observe summary of data under different values of pass_length_air_yards\n",
    "short passes, filter out the long passes and then summarize."
   ]
  },
  {
   "cell_type": "code",
   "execution_count": 15,
   "id": "21064a5f",
   "metadata": {},
   "outputs": [
    {
     "data": {
      "text/plain": [
       "count    116087.000000\n",
       "mean          6.526812\n",
       "std           7.695791\n",
       "min         -20.000000\n",
       "25%           0.000000\n",
       "50%           5.000000\n",
       "75%          10.000000\n",
       "max          95.000000\n",
       "Name: passing_yards, dtype: float64"
      ]
     },
     "execution_count": 15,
     "metadata": {},
     "output_type": "execute_result"
    }
   ],
   "source": [
    "pbp_py_p\\\n",
    "    .query('pass_length_air_yards == \"short\"')[\"passing_yards\"]\\\n",
    "    .describe()"
   ]
  },
  {
   "cell_type": "markdown",
   "id": "a4cd697b",
   "metadata": {},
   "source": [
    "find long passes in Python"
   ]
  },
  {
   "cell_type": "markdown",
   "id": "03f20dac",
   "metadata": {},
   "source": [
    "The interquartile range (difference between 1st and 3rd quartile is much larger for longer pases than for short passes), even though the maximum passing yards are about the same.\n",
    "\n",
    "The minimum values are going to be higher for long passes, since it's almost impossible to gain negative yards on a pass that travels 20 or more yards in the air."
   ]
  },
  {
   "cell_type": "code",
   "execution_count": 20,
   "id": "544c8825",
   "metadata": {},
   "outputs": [
    {
     "data": {
      "text/plain": [
       "count    15519.000000\n",
       "mean        12.168761\n",
       "std         17.923370\n",
       "min          0.000000\n",
       "25%          0.000000\n",
       "50%          0.000000\n",
       "75%         26.000000\n",
       "max         98.000000\n",
       "Name: passing_yards, dtype: float64"
      ]
     },
     "execution_count": 20,
     "metadata": {},
     "output_type": "execute_result"
    }
   ],
   "source": [
    "pbp_py_p\\\n",
    "    .query('pass_length_air_yards == \"long\"')[\"passing_yards\"]\\\n",
    "    .describe()"
   ]
  },
  {
   "cell_type": "markdown",
   "id": "e73dddc6",
   "metadata": {},
   "source": [
    "expected points added (EPA), which are a more continous measure of play success that uses situtiational factors to assign a point value to each play."
   ]
  },
  {
   "cell_type": "code",
   "execution_count": 23,
   "id": "5ff9e615",
   "metadata": {},
   "outputs": [
    {
     "data": {
      "text/plain": [
       "count    116086.000000\n",
       "mean          0.119606\n",
       "std           1.426229\n",
       "min         -13.031219\n",
       "25%          -0.606135\n",
       "50%          -0.002100\n",
       "75%           0.959107\n",
       "max           8.241420\n",
       "Name: epa, dtype: float64"
      ]
     },
     "execution_count": 23,
     "metadata": {},
     "output_type": "execute_result"
    }
   ],
   "source": [
    "# can use epa for long and short passes\n",
    "pbp_py_p\\\n",
    "    .query('pass_length_air_yards == \"short\"')[\"epa\"]\\\n",
    "    .describe()"
   ]
  },
  {
   "cell_type": "code",
   "execution_count": 24,
   "id": "400a862d",
   "metadata": {},
   "outputs": [
    {
     "ename": "NameError",
     "evalue": "name 'my_plot' is not defined",
     "output_type": "error",
     "traceback": [
      "\u001b[1;31m---------------------------------------------------------------------------\u001b[0m",
      "\u001b[1;31mNameError\u001b[0m                                 Traceback (most recent call last)",
      "\u001b[1;32m~\\AppData\\Local\\Temp\\ipykernel_8916\\1345106799.py\u001b[0m in \u001b[0;36m<module>\u001b[1;34m\u001b[0m\n\u001b[1;32m----> 1\u001b[1;33m my_plot(data=big_name_data_frame,\n\u001b[0m\u001b[0;32m      2\u001b[0m        \u001b[0mx\u001b[0m \u001b[1;33m=\u001b[0m \u001b[1;34m\"long_x_name\"\u001b[0m\u001b[1;33m,\u001b[0m\u001b[1;33m\u001b[0m\u001b[1;33m\u001b[0m\u001b[0m\n\u001b[0;32m      3\u001b[0m        y = \"long_y_name\")\n",
      "\u001b[1;31mNameError\u001b[0m: name 'my_plot' is not defined"
     ]
    }
   ],
   "source": []
  },
  {
   "cell_type": "code",
   "execution_count": null,
   "id": "b029e40e",
   "metadata": {},
   "outputs": [],
   "source": []
  }
 ],
 "metadata": {
  "kernelspec": {
   "display_name": "Python 3 (ipykernel)",
   "language": "python",
   "name": "python3"
  },
  "language_info": {
   "codemirror_mode": {
    "name": "ipython",
    "version": 3
   },
   "file_extension": ".py",
   "mimetype": "text/x-python",
   "name": "python",
   "nbconvert_exporter": "python",
   "pygments_lexer": "ipython3",
   "version": "3.9.13"
  }
 },
 "nbformat": 4,
 "nbformat_minor": 5
}
