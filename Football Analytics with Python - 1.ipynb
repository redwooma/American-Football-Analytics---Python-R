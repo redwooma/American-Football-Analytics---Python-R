{
 "cells": [
  {
   "cell_type": "code",
   "execution_count": 5,
   "id": "9569f0e0",
   "metadata": {},
   "outputs": [
    {
     "data": {
      "text/plain": [
       "4"
      ]
     },
     "execution_count": 5,
     "metadata": {},
     "output_type": "execute_result"
    }
   ],
   "source": [
    "2+2"
   ]
  },
  {
   "cell_type": "markdown",
   "id": "555e5e7f",
   "metadata": {},
   "source": [
    "pip install nfl_data_py"
   ]
  },
  {
   "cell_type": "markdown",
   "id": "2508b4f4",
   "metadata": {},
   "source": [
    "pip install --user nfl_data_py"
   ]
  },
  {
   "cell_type": "markdown",
   "id": "e60e9b2d",
   "metadata": {},
   "source": [
    "pip install --upgrade numexpr bottleneck"
   ]
  },
  {
   "cell_type": "markdown",
   "id": "1ce01206",
   "metadata": {},
   "source": [
    "pip install pyarrow"
   ]
  },
  {
   "cell_type": "markdown",
   "id": "262cd037",
   "metadata": {},
   "source": [
    "pip install --upgrade bottleneck"
   ]
  },
  {
   "cell_type": "code",
   "execution_count": 6,
   "id": "96a02c3d",
   "metadata": {},
   "outputs": [],
   "source": [
    "import pandas as pd\n",
    "import nfl_data_py as nfl"
   ]
  },
  {
   "cell_type": "code",
   "execution_count": 7,
   "id": "a56f09c5",
   "metadata": {},
   "outputs": [
    {
     "name": "stdout",
     "output_type": "stream",
     "text": [
      "2021 done.\n",
      "Downcasting floats.\n"
     ]
    }
   ],
   "source": [
    "pbp_py = nfl.import_pbp_data([2021])"
   ]
  },
  {
   "cell_type": "code",
   "execution_count": 8,
   "id": "4ee36c5c",
   "metadata": {},
   "outputs": [],
   "source": [
    "filter_crit = 'play_type == \"pass\" & air_yards.notnull()'"
   ]
  },
  {
   "cell_type": "code",
   "execution_count": 9,
   "id": "9b3921d7",
   "metadata": {},
   "outputs": [],
   "source": [
    "pbp_py_p = (\n",
    "    # filter critiera into query() as an object and we have you do this to save space line\n",
    "    pbp_py.query(filter_crit)\n",
    "    # group by pass_id and passer before aggregating the data by using a Python dictionary\n",
    "    .groupby([\"passer_id\", \"passer\"])\n",
    "    .agg({\"air_yards\": [\"count\", \"mean\"]})\n",
    ")"
   ]
  },
  {
   "cell_type": "code",
   "execution_count": 10,
   "id": "1fc75d10",
   "metadata": {},
   "outputs": [
    {
     "name": "stdout",
     "output_type": "stream",
     "text": [
      "                             air_yards_count  air_yards_mean\n",
      "passer_id  passer                                           \n",
      "00-0035704 D.Lock                        110       10.154546\n",
      "00-0029263 R.Wilson                      400        9.887500\n",
      "00-0036945 J.Fields                      268        9.835821\n",
      "00-0034796 L.Jackson                     378        9.341269\n",
      "00-0036389 J.Hurts                       473        9.190275\n",
      "00-0034855 B.Mayfield                    416        8.776443\n",
      "00-0026498 M.Stafford                    740        8.508108\n",
      "00-0031503 J.Winston                     161        8.322982\n",
      "00-0029604 K.Cousins                     556        8.228417\n",
      "00-0034857 J.Allen                       708        8.224576\n",
      "00-0031280 D.Carr                        676        8.128698\n",
      "00-0031237 T.Bridgewater                 426        8.037559\n",
      "00-0019596 T.Brady                       808        7.941832\n",
      "00-0035228 K.Murray                      515        7.941748\n",
      "00-0036971 T.Lawrence                    598        7.913043\n",
      "00-0036972 M.Jones                       557        7.901257\n",
      "00-0033077 D.Prescott                    638        7.811912\n",
      "00-0036442 J.Burrow                      659        7.745068\n",
      "00-0023459 A.Rodgers                     556        7.730216\n",
      "00-0031800 T.Heinicke                    491        7.692464\n",
      "00-0035993 T.Huntley                     185        7.675676\n",
      "00-0032950 C.Wentz                       516        7.641473\n",
      "00-0029701 R.Tannehill                   554        7.606498\n",
      "00-0037013 Z.Wilson                      382        7.565445\n",
      "00-0036355 J.Herbert                     671        7.554397\n",
      "00-0033119 J.Brissett                    224        7.549107\n",
      "00-0033357 T.Hill                        132        7.439394\n",
      "00-0028118 T.Taylor                      149        7.429530\n",
      "00-0030520 M.Glennon                     164        7.378049\n",
      "00-0035710 D.Jones                       360        7.344444\n",
      "00-0036898 D.Mills                       392        7.318878\n",
      "00-0031345 J.Garoppolo                   511        7.305284\n",
      "00-0034869 S.Darnold                     405        7.259259\n",
      "00-0026143 M.Ryan                        559        7.159213\n",
      "00-0032156 T.Siemian                     187        7.133690\n",
      "00-0036212 T.Tagovailoa                  387        7.103359\n",
      "00-0033873 P.Mahomes                     780        7.075641\n",
      "00-0027973 A.Dalton                      235        6.987234\n",
      "00-0027939 C.Newton                      126        6.968254\n",
      "00-0022924 B.Roethlisberger              647        6.761978\n",
      "00-0033106 J.Goff                        489        6.441718\n",
      "00-0034401 M.White                       132        5.886364\n"
     ]
    }
   ],
   "source": [
    "# reformatting the column heads via a list() function and changing the header from being two rows to a single row via map()\n",
    "# print the outputs after sorting by the mean of the air yards via the query() function\n",
    "pbp_py_p.columns = list(map(\"_\".join, pbp_py_p.columns.values))\n",
    "sort_crit = \"air_yards_count > 100\"\n",
    "print(\n",
    "    pbp_py_p.query(sort_crit)\\\n",
    "    .sort_values(by=\"air_yards_mean\", ascending=[False])\\\n",
    "    .to_string()\n",
    ")"
   ]
  },
  {
   "cell_type": "code",
   "execution_count": null,
   "id": "bc873f8d",
   "metadata": {},
   "outputs": [],
   "source": []
  }
 ],
 "metadata": {
  "kernelspec": {
   "display_name": "Python 3 (ipykernel)",
   "language": "python",
   "name": "python3"
  },
  "language_info": {
   "codemirror_mode": {
    "name": "ipython",
    "version": 3
   },
   "file_extension": ".py",
   "mimetype": "text/x-python",
   "name": "python",
   "nbconvert_exporter": "python",
   "pygments_lexer": "ipython3",
   "version": "3.9.13"
  }
 },
 "nbformat": 4,
 "nbformat_minor": 5
}
